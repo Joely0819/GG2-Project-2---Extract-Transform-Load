{
 "cells": [
  {
   "cell_type": "code",
   "execution_count": null,
   "id": "a3cf3bd8",
   "metadata": {},
   "outputs": [],
   "source": [
    "#import dependencies \n",
    "#import dependencies to read the files \n",
    "import os \n",
    "import csv \n",
    "import pandas as pd\n",
    "import numpy as np\n",
    "import matplotlib.pyplot as plt\n",
    "from collections import Counter\n",
    "import json\n",
    "import requests\n",
    "from config import api_key\n",
    "from pprint import pprint\n",
    "import scipy.stats as st"
   ]
  },
  {
   "cell_type": "code",
   "execution_count": null,
   "id": "a6bb195f",
   "metadata": {},
   "outputs": [],
   "source": [
    "#import api_key\n",
    "from config import api_key "
   ]
  },
  {
   "cell_type": "code",
   "execution_count": null,
   "id": "5531d8f1",
   "metadata": {},
   "outputs": [],
   "source": [
    "# File to Load\n",
    "file_to_load = \"../Data/netflix_titles_CLEANSEDcsv.csv\"\n",
    "\n",
    "# Read Purchasing File and store into Pandas data frame\n",
    "Netflix_Titles = pd.read_csv(file_to_load)\n",
    "#drop rows with any missing values \n",
    "Netflix_Titles.dropna(how='any')"
   ]
  }
 ],
 "metadata": {
  "kernelspec": {
   "display_name": "Python 3",
   "language": "python",
   "name": "python3"
  },
  "language_info": {
   "codemirror_mode": {
    "name": "ipython",
    "version": 3
   },
   "file_extension": ".py",
   "mimetype": "text/x-python",
   "name": "python",
   "nbconvert_exporter": "python",
   "pygments_lexer": "ipython3",
   "version": "3.8.8"
  }
 },
 "nbformat": 4,
 "nbformat_minor": 5
}
